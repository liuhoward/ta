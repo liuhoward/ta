{
 "cells": [
  {
   "cell_type": "markdown",
   "metadata": {},
   "source": [
    "We have a list of jobs, each row has job id, job name and keywords, calculate similarities between any pair of them."
   ]
  },
  {
   "cell_type": "code",
   "execution_count": null,
   "metadata": {},
   "outputs": [],
   "source": [
    "# read data, first row is the column names, first column is id\n",
    "import pandas as pd\n",
    "data = pd.read_csv('https://github.com/liuhoward/teaching/raw/master/mis464/jobdata.csv', header=0, index_col=0)\n",
    "\n",
    "print(f'Number of instances = {data.shape[0]}')\n",
    "print(f'Number of columns = {data.shape[1]}')\n",
    "data.head()"
   ]
  },
  {
   "cell_type": "code",
   "execution_count": null,
   "metadata": {},
   "outputs": [],
   "source": [
    "# extract subset (exclude job name)\n",
    "subset = data.drop(['title'], axis=1)\n",
    "\n",
    "subset.head()"
   ]
  },
  {
   "cell_type": "code",
   "execution_count": null,
   "metadata": {},
   "outputs": [],
   "source": [
    "# calculate the sum\n",
    "\n",
    "subset_rowsum = subset.sum(axis=1)\n",
    "\n",
    "subset_rowsum.head()"
   ]
  },
  {
   "cell_type": "code",
   "execution_count": null,
   "metadata": {},
   "outputs": [],
   "source": [
    "# normalize each row by dividing by sum\n",
    "\n",
    "subset_norm = subset.div(subset_rowsum, axis=0)\n",
    "\n",
    "subset_norm.head()"
   ]
  },
  {
   "cell_type": "code",
   "execution_count": null,
   "metadata": {},
   "outputs": [],
   "source": [
    "from sklearn.metrics import pairwise_distances\n",
    "import numpy as np\n",
    "\n",
    "# calulate euclidean distances as a matrix\n",
    "distance_matrix = pairwise_distances(subset_norm, metric='euclidean')\n",
    "#distance_matrix = pairwise_distances(np.array(subset_norm) > 0, metric=\"jaccard\")\n",
    "#distance_matrix = pairwise_distances(subset_norm, metric=\"cosine\")\n",
    "\n",
    "print(f\"dimension is:{distance_matrix.shape}\\n\")\n",
    "print(distance_matrix)"
   ]
  },
  {
   "cell_type": "code",
   "execution_count": null,
   "metadata": {},
   "outputs": [],
   "source": [
    "# get similarity\n",
    "\n",
    "matrix = 1 - distance_matrix\n"
   ]
  },
  {
   "cell_type": "code",
   "execution_count": null,
   "metadata": {},
   "outputs": [],
   "source": [
    "# plot the matrix (optional)\n",
    "import matplotlib.pyplot as plt\n",
    "\n",
    "plt.matshow(matrix)"
   ]
  },
  {
   "cell_type": "code",
   "execution_count": null,
   "metadata": {},
   "outputs": [],
   "source": [
    "# convert matrix as a pandas DataFrame\n",
    "\n",
    "# get id list\n",
    "id_list = data.index\n",
    "\n",
    "df = pd.DataFrame(matrix, columns=id_list, index=id_list)\n",
    "\n",
    "df.head()"
   ]
  },
  {
   "cell_type": "code",
   "execution_count": null,
   "metadata": {},
   "outputs": [],
   "source": [
    "# save it into a file:\n",
    "\n",
    "df.to_csv('output.csv')"
   ]
  }
 ],
 "metadata": {
  "kernelspec": {
   "display_name": "Python 3",
   "language": "python",
   "name": "python3"
  },
  "language_info": {
   "codemirror_mode": {
    "name": "ipython",
    "version": 3
   },
   "file_extension": ".py",
   "mimetype": "text/x-python",
   "name": "python",
   "nbconvert_exporter": "python",
   "pygments_lexer": "ipython3",
   "version": "3.8.5"
  }
 },
 "nbformat": 4,
 "nbformat_minor": 4
}
